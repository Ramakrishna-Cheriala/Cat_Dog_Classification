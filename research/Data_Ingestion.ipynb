{
 "cells": [
  {
   "cell_type": "code",
   "execution_count": 1,
   "metadata": {},
   "outputs": [],
   "source": [
    "import os"
   ]
  },
  {
   "cell_type": "code",
   "execution_count": 2,
   "metadata": {},
   "outputs": [
    {
     "data": {
      "text/plain": [
       "'c:\\\\Users\\\\ramak\\\\OneDrive\\\\Desktop\\\\P2\\\\CatDogClassification'"
      ]
     },
     "execution_count": 2,
     "metadata": {},
     "output_type": "execute_result"
    }
   ],
   "source": [
    "os.chdir(\"../\")\n",
    "%pwd"
   ]
  },
  {
   "cell_type": "code",
   "execution_count": 3,
   "metadata": {},
   "outputs": [],
   "source": [
    "from dataclasses import dataclass\n",
    "from pathlib import Path\n",
    "\n",
    "@dataclass(frozen=True)\n",
    "class DataIngestionConfig:\n",
    "    root_dir: Path\n",
    "    source_url: Path\n",
    "    local_dir_files: Path\n",
    "    unzip_dirs: Path\n",
    "    split_data_dir: Path\n",
    "    original_data_dir: Path"
   ]
  },
  {
   "cell_type": "code",
   "execution_count": 4,
   "metadata": {},
   "outputs": [],
   "source": [
    "from src.CatDogClassification.constants import *\n",
    "from src.CatDogClassification.utils.common import read_yaml, create_directory"
   ]
  },
  {
   "cell_type": "code",
   "execution_count": 5,
   "metadata": {},
   "outputs": [],
   "source": [
    "class ConfigurationManager:\n",
    "    def __init__(self, config_filepath = Config_File_Path, param_filepath = Params_File_Path):\n",
    "        self.config = read_yaml(config_filepath)\n",
    "        self.params = read_yaml(param_filepath)\n",
    "\n",
    "        create_directory([self.config.main_dir])\n",
    "\n",
    "    def get_data_ingestion_config(self) -> DataIngestionConfig:\n",
    "        config = self.config.data_ingestion\n",
    "        create_directory([config.root_dir])\n",
    "\n",
    "        data_ingestion_config = DataIngestionConfig(\n",
    "            root_dir = config.root_dir,\n",
    "            source_url = config.source_url,\n",
    "            local_dir_files = config.local_dir_files,\n",
    "            unzip_dirs = config.unzip_dirs,\n",
    "            split_data_dir = config.split_data_dir,\n",
    "            original_data_dir = config.original_data_dir\n",
    "        )\n",
    "\n",
    "        return data_ingestion_config\n",
    "\n",
    "\n"
   ]
  },
  {
   "cell_type": "code",
   "execution_count": 6,
   "metadata": {},
   "outputs": [],
   "source": [
    "import os\n",
    "import urllib.request as request\n",
    "import zipfile\n",
    "from src.CatDogClassification import logger\n",
    "import shutil\n",
    "import gdown\n",
    "import requests"
   ]
  },
  {
   "cell_type": "code",
   "execution_count": 9,
   "metadata": {},
   "outputs": [],
   "source": [
    "class DataIngestion:\n",
    "    def __init__(self,config: DataIngestionConfig):\n",
    "        self.config = config\n",
    "\n",
    "    def dowenload_file(self):\n",
    "        # create_directory([self.config.local_dir_files])\n",
    "        if not os.path.exists(self.config.local_dir_files):\n",
    "            filename = gdown.download(self.config.source_url, self.config.local_dir_files, quiet=False)\n",
    "            logger.info(f\"\\n{filename} dowenloaded\\n\")\n",
    "        else:\n",
    "            logger.info(f\"\\nfile already exists\")\n",
    "\n",
    "\n",
    "\n",
    "\n",
    "    def extract_zip_file(self):\n",
    "        \n",
    "        unzip_path = self.config.unzip_dirs\n",
    "        print(self.config.local_dir_files)\n",
    "        os.makedirs(unzip_path,exist_ok=True)\n",
    "        logger.info(\"\\nExtracting zip file\")\n",
    "        # filepath = r\"C:\\Users\\ramak\\OneDrive\\Desktop\\P2\\CatDogClassification\\Data\\main_data.zip\"\n",
    "        filepath = Path(\"Data/main_data.zip\")\n",
    "        with zipfile.ZipFile(filepath, 'r') as zip_ref:\n",
    "            zip_ref.extractall(unzip_path)\n",
    "        \n",
    "\n",
    "    \n",
    "    def data_splitting(self):  #Dividing the data into train, test, and validation sets\n",
    "        if not os.path.exists(self.config.split_data_dir):\n",
    "            logger.info(\"\\nCreating train, test and validation sets\")\n",
    "            os.makedirs(self.config.split_data_dir)\n",
    "            train_dir = os.path.join(self.config.split_data_dir, 'train')\n",
    "            validation_dir = os.path.join(self.config.split_data_dir, 'validation')\n",
    "            test_dir = os.path.join(self.config.split_data_dir, 'test')\n",
    "\n",
    "            os.makedirs(train_dir,exist_ok=True)\n",
    "            os.makedirs(validation_dir,exist_ok=True)\n",
    "            os.makedirs(test_dir,exist_ok=True)\n",
    "\n",
    "            train_cats_dir = os.path.join(train_dir, 'cat')\n",
    "            train_dogs_dir = os.path.join(train_dir, 'dog')\n",
    "            test_cats_dir = os.path.join(test_dir, 'cat')\n",
    "            test_dogs_dir = os.path.join(test_dir, 'dog')\n",
    "            validation_cats_dir = os.path.join(validation_dir, 'cat')\n",
    "            validation_dogs_dir = os.path.join(validation_dir, 'dog')\n",
    "\n",
    "            os.makedirs(train_cats_dir, exist_ok=True)\n",
    "            os.makedirs(train_dogs_dir, exist_ok=True)\n",
    "            os.makedirs(test_cats_dir, exist_ok=True)\n",
    "            os.makedirs(test_dogs_dir, exist_ok=True)\n",
    "            os.makedirs(validation_cats_dir, exist_ok=True)\n",
    "            os.makedirs(validation_dogs_dir, exist_ok=True)\n",
    "\n",
    "            #Copying the images to the train, test and validation directories\n",
    "\n",
    "            #Copying cat and dogs images to train dir (1000 images (0 - 1000))\n",
    "            logger.info(\"\\nCopying images to train directory\")\n",
    "            cat_names = [f\"cat.{i}.jpg\" for i in range(1000)]\n",
    "            for name in cat_names:\n",
    "                # shutil.copy(os.path.join(self.config.unzip_dir, name), train_cats_dir)\n",
    "                src = os.path.join(self.config.unzip_dirs,\"main_data\", name)\n",
    "                destination = os.path.join(train_cats_dir, name)\n",
    "                shutil.copy(src, destination)\n",
    "\n",
    "            dog_names = [f\"dog.{i}.jpg\" for i in range(1000)]\n",
    "            for name in dog_names:\n",
    "                # shutil.copy(os.path.join(self.config.unzip_dir, name), train_dogs_dir)\n",
    "                src = os.path.join(self.config.unzip_dirs,\"main_data\", name)\n",
    "                destination = os.path.join(train_dogs_dir, name)\n",
    "                shutil.copy(src, destination)\n",
    "\n",
    "\n",
    "\n",
    "            #Copying cat and dog images to validation dir (500 images (1000 - 1500))\n",
    "            logger.info(\"\\nCopying images to test directory\")\n",
    "            cat_names = [f\"cat.{i}.jpg\" for i in range(1000,1500)]\n",
    "            for name in cat_names:\n",
    "                # shutil.copy(os.path.join(self.config.unzip_dir, name), validation_cats_dir)\n",
    "                src = os.path.join(self.config.unzip_dirs,\"main_data\", name)\n",
    "                destination = os.path.join(validation_cats_dir, name)\n",
    "                shutil.copy(src, destination)\n",
    "\n",
    "            dog_names = [f\"dog.{i}.jpg\" for i in range(1000,1500)]\n",
    "            for name in dog_names:\n",
    "                # shutil.copy(os.path.join(self.config.unzip_dir, name), validation_dogs_dir)\n",
    "                src = os.path.join(self.config.unzip_dirs,\"main_data\", name)\n",
    "                destination = os.path.join(validation_dogs_dir, name)\n",
    "                shutil.copy(src, destination)\n",
    "\n",
    "                \n",
    "\n",
    "            #Copying cat and dog images to test dir(500 images (1500 - 2000))\n",
    "            logger.info(\"\\nCopying images to validation directory\")\n",
    "            cat_names = [f\"cat.{i}.jpg\" for i in range(1500,2000)]\n",
    "            for name in cat_names:\n",
    "                # shutil.copy(os.path.join(self.config.unzip_dir, name), test_cats_dir)\n",
    "                src = os.path.join(self.config.unzip_dirs,\"main_data\", name)\n",
    "                destination = os.path.join(test_cats_dir, name)\n",
    "                shutil.copy(src, destination)\n",
    "\n",
    "            dog_names = [f\"dog.{i}.jpg\" for i in range(1500,2000)]\n",
    "            for name in dog_names:\n",
    "                # shutil.copy(os.path.join(self.config.unzip_dir, name), test_dogs_dir)\n",
    "                src = os.path.join(self.config.unzip_dirs,\"main_data\", name)\n",
    "                destination = os.path.join(test_dogs_dir, name)\n",
    "                shutil.copy(src, destination)\n",
    "\n",
    "\n",
    "        else:\n",
    "            logger.info(\"\\nFiles Already Exists\")"
   ]
  },
  {
   "cell_type": "code",
   "execution_count": 10,
   "metadata": {},
   "outputs": [
    {
     "name": "stdout",
     "output_type": "stream",
     "text": [
      "[2023-12-13 19:05:57,135: INFO: common: yaml file: C:\\Users\\ramak\\OneDrive\\Desktop\\P2\\CatDogClassification\\config\\config.yaml loaded]\n",
      "[2023-12-13 19:05:57,151: INFO: common: yaml file: C:\\Users\\ramak\\OneDrive\\Desktop\\P2\\CatDogClassification\\params.yaml loaded]\n",
      "[2023-12-13 19:05:57,151: INFO: common: Created directory at: artifacts]\n",
      "[2023-12-13 19:05:57,161: INFO: common: Created directory at: artifacts/data_ingestion]\n",
      "artifacts/data_ingestion/main_data.zip\n",
      "[2023-12-13 19:05:57,166: INFO: 539687443: \n",
      "Extracting zip file]\n"
     ]
    },
    {
     "name": "stdout",
     "output_type": "stream",
     "text": [
      "[2023-12-13 19:06:06,363: INFO: 539687443: \n",
      "Creating train, test and validation sets]\n",
      "[2023-12-13 19:06:06,370: INFO: 539687443: \n",
      "Copying images to train directory]\n",
      "[2023-12-13 19:06:41,269: INFO: 539687443: \n",
      "Copying images to test directory]\n",
      "[2023-12-13 19:07:00,647: INFO: 539687443: \n",
      "Copying images to validation directory]\n"
     ]
    }
   ],
   "source": [
    "try:\n",
    "    config = ConfigurationManager()\n",
    "    data_ingestion_config = config.get_data_ingestion_config()\n",
    "    data_ingestion = DataIngestion(config=data_ingestion_config)\n",
    "    # data_ingestion.dowenload_file()\n",
    "    data_ingestion.extract_zip_file()\n",
    "    data_ingestion.data_splitting()\n",
    "except Exception as e:\n",
    "    raise e"
   ]
  },
  {
   "cell_type": "code",
   "execution_count": null,
   "metadata": {},
   "outputs": [],
   "source": []
  }
 ],
 "metadata": {
  "kernelspec": {
   "display_name": "base",
   "language": "python",
   "name": "python3"
  },
  "language_info": {
   "codemirror_mode": {
    "name": "ipython",
    "version": 3
   },
   "file_extension": ".py",
   "mimetype": "text/x-python",
   "name": "python",
   "nbconvert_exporter": "python",
   "pygments_lexer": "ipython3",
   "version": "3.11.5"
  }
 },
 "nbformat": 4,
 "nbformat_minor": 2
}
