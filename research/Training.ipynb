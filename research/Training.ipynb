{
 "cells": [
  {
   "cell_type": "code",
   "execution_count": 1,
   "metadata": {},
   "outputs": [],
   "source": [
    "import os"
   ]
  },
  {
   "cell_type": "code",
   "execution_count": 2,
   "metadata": {},
   "outputs": [
    {
     "data": {
      "text/plain": [
       "'c:\\\\Users\\\\ramak\\\\OneDrive\\\\Desktop\\\\P2\\\\CatDogClassification'"
      ]
     },
     "execution_count": 2,
     "metadata": {},
     "output_type": "execute_result"
    }
   ],
   "source": [
    "os.chdir(\"../\")\n",
    "%pwd"
   ]
  },
  {
   "cell_type": "code",
   "execution_count": 3,
   "metadata": {},
   "outputs": [],
   "source": [
    "from dataclasses import dataclass\n",
    "from pathlib import Path\n",
    "\n",
    "\n",
    "@dataclass(frozen=True)\n",
    "class TrainingModelConfig:\n",
    "    root_dir: Path\n",
    "    updated_base_model_path: Path\n",
    "    trained_model_path: Path\n",
    "    training_data: Path\n",
    "    validation_data: Path\n",
    "    epochs: int\n",
    "    batch_size: int\n",
    "    weights: str\n",
    "    include_top: bool\n",
    "    input_shape: list\n",
    "    class_weights: dict"
   ]
  },
  {
   "cell_type": "code",
   "execution_count": 4,
   "metadata": {},
   "outputs": [],
   "source": [
    "from src.CatDogClassification.constants import *\n",
    "from src.CatDogClassification.utils.common import read_yaml, create_directory, save_json"
   ]
  },
  {
   "cell_type": "code",
   "execution_count": 5,
   "metadata": {},
   "outputs": [],
   "source": [
    "class ConfigurationManager:\n",
    "    def __init__(self, config_filepath = Config_File_Path, param_filepath = Params_File_Path):\n",
    "        self.config = read_yaml(config_filepath)\n",
    "        self.params = read_yaml(param_filepath)\n",
    "\n",
    "        create_directory([self.config.main_dir])\n",
    "\n",
    "    def get_training_model(self) -> TrainingModelConfig:\n",
    "        training = self.config.training_model\n",
    "        prepare_base_model = self.config.prepare_base_model\n",
    "        training_data = os.path.join(self.config.data_ingestion.split_data_dir,\"train\")\n",
    "        validation_data = os.path.join(self.config.data_ingestion.split_data_dir,\"validation\")\n",
    "        create_directory([training.root_dir])\n",
    "\n",
    "        prepare_training_model = TrainingModelConfig(\n",
    "            root_dir = training.root_dir,\n",
    "            updated_base_model_path = prepare_base_model.updated_base_model_path,\n",
    "            trained_model_path = training.trained_model_path,\n",
    "            training_data = Path(training_data),\n",
    "            validation_data = Path(validation_data),\n",
    "            epochs = self.params.EPOCHS,\n",
    "            batch_size = self.params.BATCH_SIZE,\n",
    "            weights = self.params.WEIGHTS,\n",
    "            include_top = self.params.INCLUDE_TOP,\n",
    "            input_shape = self.params.INPUT_SHAPE,\n",
    "            class_weights = self.params.CLASS_WEIGHTS\n",
    "            )\n",
    "\n",
    "        return prepare_training_model"
   ]
  },
  {
   "cell_type": "code",
   "execution_count": 6,
   "metadata": {},
   "outputs": [
    {
     "name": "stdout",
     "output_type": "stream",
     "text": [
      "[2023-12-15 15:01:07,472: INFO: utils: NumExpr defaulting to 8 threads.]\n"
     ]
    }
   ],
   "source": [
    "import tensorflow as tf\n",
    "import numpy as np\n",
    "import tensorflow\n",
    "from tensorflow.keras.preprocessing.image import ImageDataGenerator\n"
   ]
  },
  {
   "cell_type": "code",
   "execution_count": 9,
   "metadata": {},
   "outputs": [],
   "source": [
    "class Training:\n",
    "    def __init__(self, config: TrainingModelConfig):\n",
    "        self.config = config\n",
    "\n",
    "    def get_base_model(self):\n",
    "        self.model = tf.keras.models.load_model(\n",
    "            self.config.updated_base_model_path\n",
    "            # os.path.join(\"artifacts\",\"prepare_base_model\",\"base_model_updated\")\n",
    "        )\n",
    "\n",
    "\n",
    "\n",
    "    def train_valid_generator(self):\n",
    "        # train_data = ImageDataGenerator(rescale = 1./255)\n",
    "        train_data = ImageDataGenerator(\n",
    "                                        rescale=1./255,\n",
    "                                        rotation_range=20,\n",
    "                                        width_shift_range=0.2,\n",
    "                                        height_shift_range=0.2,\n",
    "                                        shear_range=0.2,\n",
    "                                        zoom_range=0.2,\n",
    "                                        horizontal_flip=True,\n",
    "                                        fill_mode='nearest'\n",
    "                                    )\n",
    "        test_data = ImageDataGenerator(rescale = 1./255)\n",
    "        train_generator = train_data.flow_from_directory(self.config.training_data,batch_size=20,target_size=(150,150),class_mode='binary')\n",
    "        validation_generator = train_data.flow_from_directory(self.config.validation_data,batch_size=20,target_size=(150,150),class_mode='binary')\n",
    "\n",
    "        self.model.fit(train_generator,\n",
    "                        epochs=self.config.epochs,\n",
    "                        validation_data=validation_generator,\n",
    "                        validation_steps=50,\n",
    "                        class_weight = self.config.class_weights)\n",
    "        \n",
    "        scores = self.model.evaluate(\n",
    "            validation_generator, batch_size=self.config.batch_size\n",
    "        )\n",
    "        # print(\"Validation Loss:\", scores[0])\n",
    "        # print(\"Validation Accuracy:\", scores[1])\n",
    "        score = {\"loss\": scores[0], \"accuracy\": scores[1]}\n",
    "        save_json(path=Path(\"scores.json\"), data=score)\n",
    "        # logger.info(\"Model Scores saved in scores.json.......\")\n",
    "\n",
    "        self.save_model(path=self.config.trained_model_path, model=self.model)\n",
    "        # logger.info(\"Model training and saving completed...........\")\n",
    "    \n",
    "    \n",
    "\n",
    "        \n",
    "\n",
    "    @staticmethod\n",
    "    def save_model(path: Path, model: tf.keras.Model):\n",
    "        model.save(path)"
   ]
  },
  {
   "cell_type": "code",
   "execution_count": 10,
   "metadata": {},
   "outputs": [
    {
     "name": "stdout",
     "output_type": "stream",
     "text": [
      "[2023-12-15 15:01:32,311: INFO: common: yaml file: C:\\Users\\ramak\\OneDrive\\Desktop\\P2\\CatDogClassification\\config\\config.yaml loaded]\n",
      "[2023-12-15 15:01:32,317: INFO: common: yaml file: C:\\Users\\ramak\\OneDrive\\Desktop\\P2\\CatDogClassification\\params.yaml loaded]\n",
      "[2023-12-15 15:01:32,321: INFO: common: Created directory at: artifacts]\n",
      "[2023-12-15 15:01:32,323: INFO: common: Created directory at: artifacts/training_model]\n",
      "Found 2000 images belonging to 2 classes.\n",
      "Found 1000 images belonging to 2 classes.\n",
      "Epoch 1/20\n",
      "100/100 [==============================] - 278s 3s/step - loss: 0.8407 - accuracy: 0.5615 - val_loss: 0.5654 - val_accuracy: 0.6860\n",
      "Epoch 2/20\n",
      "100/100 [==============================] - 277s 3s/step - loss: 0.6882 - accuracy: 0.7030 - val_loss: 0.5013 - val_accuracy: 0.7490\n",
      "Epoch 3/20\n",
      "100/100 [==============================] - 279s 3s/step - loss: 0.6166 - accuracy: 0.7705 - val_loss: 0.4478 - val_accuracy: 0.7970\n",
      "Epoch 4/20\n",
      "100/100 [==============================] - 277s 3s/step - loss: 0.5634 - accuracy: 0.8100 - val_loss: 0.4123 - val_accuracy: 0.8320\n",
      "Epoch 5/20\n",
      "100/100 [==============================] - 277s 3s/step - loss: 0.5479 - accuracy: 0.8030 - val_loss: 0.4265 - val_accuracy: 0.8070\n",
      "Epoch 6/20\n",
      "100/100 [==============================] - 279s 3s/step - loss: 0.5130 - accuracy: 0.8175 - val_loss: 0.3805 - val_accuracy: 0.8420\n",
      "Epoch 7/20\n",
      "100/100 [==============================] - 282s 3s/step - loss: 0.4985 - accuracy: 0.8275 - val_loss: 0.3647 - val_accuracy: 0.8460\n",
      "Epoch 8/20\n",
      "100/100 [==============================] - 278s 3s/step - loss: 0.4920 - accuracy: 0.8425 - val_loss: 0.4020 - val_accuracy: 0.8190\n",
      "Epoch 9/20\n",
      "100/100 [==============================] - 296s 3s/step - loss: 0.4763 - accuracy: 0.8435 - val_loss: 0.3720 - val_accuracy: 0.8240\n",
      "Epoch 10/20\n",
      "100/100 [==============================] - 304s 3s/step - loss: 0.4579 - accuracy: 0.8530 - val_loss: 0.3443 - val_accuracy: 0.8480\n",
      "Epoch 11/20\n",
      "100/100 [==============================] - 301s 3s/step - loss: 0.4468 - accuracy: 0.8565 - val_loss: 0.3367 - val_accuracy: 0.8580\n",
      "Epoch 12/20\n",
      "100/100 [==============================] - 307s 3s/step - loss: 0.4496 - accuracy: 0.8495 - val_loss: 0.3541 - val_accuracy: 0.8390\n",
      "Epoch 13/20\n",
      "100/100 [==============================] - 299s 3s/step - loss: 0.4396 - accuracy: 0.8555 - val_loss: 0.3384 - val_accuracy: 0.8450\n",
      "Epoch 14/20\n",
      "100/100 [==============================] - 289s 3s/step - loss: 0.4267 - accuracy: 0.8625 - val_loss: 0.3569 - val_accuracy: 0.8370\n",
      "Epoch 15/20\n",
      "100/100 [==============================] - 288s 3s/step - loss: 0.4179 - accuracy: 0.8665 - val_loss: 0.3424 - val_accuracy: 0.8500\n",
      "Epoch 16/20\n",
      "100/100 [==============================] - 281s 3s/step - loss: 0.4220 - accuracy: 0.8655 - val_loss: 0.3397 - val_accuracy: 0.8500\n",
      "Epoch 17/20\n",
      "100/100 [==============================] - 284s 3s/step - loss: 0.4245 - accuracy: 0.8665 - val_loss: 0.3350 - val_accuracy: 0.8530\n",
      "Epoch 18/20\n",
      "100/100 [==============================] - 286s 3s/step - loss: 0.4015 - accuracy: 0.8750 - val_loss: 0.3491 - val_accuracy: 0.8480\n",
      "Epoch 19/20\n",
      "100/100 [==============================] - 282s 3s/step - loss: 0.3984 - accuracy: 0.8755 - val_loss: 0.3122 - val_accuracy: 0.8650\n",
      "Epoch 20/20\n",
      "100/100 [==============================] - 279s 3s/step - loss: 0.3945 - accuracy: 0.8745 - val_loss: 0.3274 - val_accuracy: 0.8620\n",
      "50/50 [==============================] - 92s 2s/step - loss: 0.3386 - accuracy: 0.8490\n",
      "[2023-12-15 16:38:31,455: INFO: common: json file saved at: scores.json]\n"
     ]
    },
    {
     "name": "stderr",
     "output_type": "stream",
     "text": [
      "C:\\Users\\ramak\\AppData\\Roaming\\Python\\Python311\\site-packages\\keras\\src\\engine\\training.py:3079: UserWarning: You are saving your model as an HDF5 file via `model.save()`. This file format is considered legacy. We recommend using instead the native Keras format, e.g. `model.save('my_model.keras')`.\n",
      "  saving_api.save_model(\n"
     ]
    }
   ],
   "source": [
    "try:\n",
    "    config = ConfigurationManager()\n",
    "    training_config = config.get_training_model()\n",
    "    training = Training(config=training_config)\n",
    "    training.get_base_model()\n",
    "    training.train_valid_generator()\n",
    "    # training.model_training()\n",
    "except Exception as e:\n",
    "    raise e"
   ]
  },
  {
   "cell_type": "code",
   "execution_count": null,
   "metadata": {},
   "outputs": [],
   "source": []
  }
 ],
 "metadata": {
  "kernelspec": {
   "display_name": "base",
   "language": "python",
   "name": "python3"
  },
  "language_info": {
   "codemirror_mode": {
    "name": "ipython",
    "version": 3
   },
   "file_extension": ".py",
   "mimetype": "text/x-python",
   "name": "python",
   "nbconvert_exporter": "python",
   "pygments_lexer": "ipython3",
   "version": "3.11.5"
  }
 },
 "nbformat": 4,
 "nbformat_minor": 2
}
